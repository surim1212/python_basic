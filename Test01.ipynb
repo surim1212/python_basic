{
 "cells": [
  {
   "cell_type": "code",
   "execution_count": null,
   "id": "595a096e-f82d-4b82-bb20-253915abaa32",
   "metadata": {},
   "outputs": [],
   "source": []
  }
 ],
 "metadata": {
  "kernelspec": {
   "display_name": "",
   "name": ""
  },
  "language_info": {
   "name": ""
  }
 },
 "nbformat": 4,
 "nbformat_minor": 5
}
